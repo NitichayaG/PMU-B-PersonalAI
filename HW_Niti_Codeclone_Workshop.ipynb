{
  "cells": [
    {
      "cell_type": "markdown",
      "metadata": {
        "id": "view-in-github",
        "colab_type": "text"
      },
      "source": [
        "<a href=\"https://colab.research.google.com/github/NitichayaG/PMU-B-PersonalAI/blob/main/HW_Niti_Codeclone_Workshop.ipynb\" target=\"_parent\"><img src=\"https://colab.research.google.com/assets/colab-badge.svg\" alt=\"Open In Colab\"/></a>"
      ]
    },
    {
      "cell_type": "markdown",
      "metadata": {
        "id": "V__5urAUIq5n"
      },
      "source": [
        "# Coding Exercise for PMU-B Coding AI - Code Clone Detector"
      ]
    },
    {
      "cell_type": "markdown",
      "metadata": {
        "id": "9atnAK9gI6xz"
      },
      "source": [
        "In this coding exercise, you will try using code2vec to generate code vectors from code snippets and find similar code snippets by using cosine similarity. Please follow the steps below."
      ]
    },
    {
      "cell_type": "markdown",
      "metadata": {
        "id": "8ghYkJ5VImaI"
      },
      "source": [
        "1. Move the main working folder."
      ]
    },
    {
      "cell_type": "code",
      "execution_count": null,
      "metadata": {
        "colab": {
          "base_uri": "https://localhost:8080/"
        },
        "id": "i3LhiNE0IC3X",
        "outputId": "9e02ee35-342a-4d95-bf67-6f9b04c45eb2"
      },
      "outputs": [
        {
          "name": "stdout",
          "output_type": "stream",
          "text": [
            "/content\n"
          ]
        }
      ],
      "source": [
        "cd /content"
      ]
    },
    {
      "cell_type": "markdown",
      "metadata": {
        "id": "WOM_e3D6JFTv"
      },
      "source": [
        "2. Clone the code2vec project to this working folder."
      ]
    },
    {
      "cell_type": "code",
      "execution_count": null,
      "metadata": {
        "colab": {
          "base_uri": "https://localhost:8080/"
        },
        "id": "-zyYmOBFV5FJ",
        "outputId": "5168e2cd-1dca-48b2-a5c5-e2347a600fa6"
      },
      "outputs": [
        {
          "name": "stdout",
          "output_type": "stream",
          "text": [
            "Cloning into 'code2vec'...\n",
            "remote: Enumerating objects: 718, done.\u001b[K\n",
            "remote: Counting objects:   7% (1/14)\u001b[K\rremote: Counting objects:  14% (2/14)\u001b[K\rremote: Counting objects:  21% (3/14)\u001b[K\rremote: Counting objects:  28% (4/14)\u001b[K\rremote: Counting objects:  35% (5/14)\u001b[K\rremote: Counting objects:  42% (6/14)\u001b[K\rremote: Counting objects:  50% (7/14)\u001b[K\rremote: Counting objects:  57% (8/14)\u001b[K\rremote: Counting objects:  64% (9/14)\u001b[K\rremote: Counting objects:  71% (10/14)\u001b[K\rremote: Counting objects:  78% (11/14)\u001b[K\rremote: Counting objects:  85% (12/14)\u001b[K\rremote: Counting objects:  92% (13/14)\u001b[K\rremote: Counting objects: 100% (14/14)\u001b[K\rremote: Counting objects: 100% (14/14), done.\u001b[K\n",
            "remote: Compressing objects: 100% (13/13), done.\u001b[K\n",
            "remote: Total 718 (delta 2), reused 8 (delta 0), pack-reused 704\u001b[K\n",
            "Receiving objects: 100% (718/718), 5.14 MiB | 25.32 MiB/s, done.\n",
            "Resolving deltas: 100% (418/418), done.\n"
          ]
        }
      ],
      "source": [
        "!git clone https://github.com/tech-srl/code2vec.git"
      ]
    },
    {
      "cell_type": "markdown",
      "metadata": {
        "id": "0JFxEYG7SGh2"
      },
      "source": [
        "3. Clone the test data to this working folder."
      ]
    },
    {
      "cell_type": "code",
      "execution_count": null,
      "metadata": {
        "colab": {
          "base_uri": "https://localhost:8080/"
        },
        "id": "vd-JJkmNPQLd",
        "outputId": "f61251a4-b5a3-46bf-ee60-ce34cbd06412"
      },
      "outputs": [
        {
          "name": "stdout",
          "output_type": "stream",
          "text": [
            "Cloning into 'PMUB-CodingAI-CloneData'...\n",
            "remote: Enumerating objects: 43, done.\u001b[K\n",
            "remote: Counting objects: 100% (43/43), done.\u001b[K\n",
            "remote: Compressing objects: 100% (31/31), done.\u001b[K\n",
            "remote: Total 43 (delta 12), reused 39 (delta 11), pack-reused 0\u001b[K\n",
            "Receiving objects: 100% (43/43), 5.91 KiB | 5.91 MiB/s, done.\n",
            "Resolving deltas: 100% (12/12), done.\n"
          ]
        }
      ],
      "source": [
        "!git clone https://github.com/cragkhit/PMUB-CodingAI-CloneData.git"
      ]
    },
    {
      "cell_type": "markdown",
      "metadata": {
        "id": "lgO80xAcJJIR"
      },
      "source": [
        "3. Download the pre-trained code2vec model."
      ]
    },
    {
      "cell_type": "code",
      "execution_count": null,
      "metadata": {
        "colab": {
          "base_uri": "https://localhost:8080/"
        },
        "id": "vrfkTrN5eBEs",
        "outputId": "54904183-aec9-41d6-ba19-2901a2188b1b"
      },
      "outputs": [
        {
          "name": "stdout",
          "output_type": "stream",
          "text": [
            "--2024-01-10 08:47:47--  https://s3.amazonaws.com/code2vec/model/java14m_model.tar.gz\n",
            "Resolving s3.amazonaws.com (s3.amazonaws.com)... 52.216.8.245, 16.182.104.128, 52.217.112.128, ...\n",
            "Connecting to s3.amazonaws.com (s3.amazonaws.com)|52.216.8.245|:443... connected.\n",
            "HTTP request sent, awaiting response... 200 OK\n",
            "Length: 1440921240 (1.3G) [application/x-tar]\n",
            "Saving to: ‘java14m_model.tar.gz’\n",
            "\n",
            "java14m_model.tar.g 100%[===================>]   1.34G  50.1MB/s    in 31s     \n",
            "\n",
            "2024-01-10 08:48:18 (45.0 MB/s) - ‘java14m_model.tar.gz’ saved [1440921240/1440921240]\n",
            "\n",
            "models/java14_model/saved_model_iter8.release.data-00000-of-00001\n",
            "models/java14_model/saved_model_iter8.release.index\n",
            "models/java14_model/saved_model_iter8.release.meta\n",
            "models/java14_model/dictionaries.bin\n"
          ]
        }
      ],
      "source": [
        "!wget https://s3.amazonaws.com/code2vec/model/java14m_model.tar.gz\n",
        "!tar -xvzf java14m_model.tar.gz"
      ]
    },
    {
      "cell_type": "markdown",
      "metadata": {
        "id": "Nb6zSn6eJOPb"
      },
      "source": [
        "4. Go inside the code2vec project."
      ]
    },
    {
      "cell_type": "code",
      "execution_count": null,
      "metadata": {
        "colab": {
          "background_save": true
        },
        "id": "dRqx9kdLWDNh",
        "outputId": "5b11b37f-63b8-41fb-f917-d0754e6d5e8e"
      },
      "outputs": [
        {
          "name": "stdout",
          "output_type": "stream",
          "text": [
            "/content/code2vec\n"
          ]
        }
      ],
      "source": [
        "cd code2vec/"
      ]
    },
    {
      "cell_type": "markdown",
      "metadata": {
        "id": "h4vnlY3dJRJB"
      },
      "source": [
        "5. Try running code2vec to generate a code vector from the given Input.java file."
      ]
    },
    {
      "cell_type": "code",
      "execution_count": null,
      "metadata": {
        "colab": {
          "base_uri": "https://localhost:8080/"
        },
        "id": "tC85FzkWfOqI",
        "outputId": "c69ef051-3061-439d-e128-d7fbbfb02899"
      },
      "outputs": [
        {
          "metadata": {
            "tags": null
          },
          "name": "stdout",
          "output_type": "stream",
          "text": [
            "2024-01-10 09:29:16.872304: E external/local_xla/xla/stream_executor/cuda/cuda_dnn.cc:9261] Unable to register cuDNN factory: Attempting to register factory for plugin cuDNN when one has already been registered\n",
            "2024-01-10 09:29:16.872373: E external/local_xla/xla/stream_executor/cuda/cuda_fft.cc:607] Unable to register cuFFT factory: Attempting to register factory for plugin cuFFT when one has already been registered\n",
            "2024-01-10 09:29:16.874014: E external/local_xla/xla/stream_executor/cuda/cuda_blas.cc:1515] Unable to register cuBLAS factory: Attempting to register factory for plugin cuBLAS when one has already been registered\n",
            "2024-01-10 09:29:16.882699: I tensorflow/core/platform/cpu_feature_guard.cc:182] This TensorFlow binary is optimized to use available CPU instructions in performance-critical operations.\n",
            "To enable the following instructions: AVX2 FMA, in other operations, rebuild TensorFlow with the appropriate compiler flags.\n",
            "2024-01-10 09:29:18.440262: W tensorflow/compiler/tf2tensorrt/utils/py_utils.cc:38] TF-TRT Warning: Could not find TensorRT\n",
            "2024-01-10 09:29:21,262 INFO     \n",
            "2024-01-10 09:29:21,262 INFO     \n",
            "2024-01-10 09:29:21,262 INFO     ---------------------------------------------------------------------\n",
            "2024-01-10 09:29:21,262 INFO     ---------------------------------------------------------------------\n",
            "2024-01-10 09:29:21,262 INFO     ---------------------- Creating code2vec model ----------------------\n",
            "2024-01-10 09:29:21,263 INFO     ---------------------------------------------------------------------\n",
            "2024-01-10 09:29:21,263 INFO     ---------------------------------------------------------------------\n",
            "2024-01-10 09:29:21,263 INFO     Checking number of examples ...\n",
            "2024-01-10 09:29:21,263 INFO     ---------------------------------------------------------------------\n",
            "2024-01-10 09:29:21,263 INFO     ----------------- Configuration - Hyper Parameters ------------------\n",
            "2024-01-10 09:29:21,263 INFO     CODE_VECTOR_SIZE                          384\n",
            "2024-01-10 09:29:21,263 INFO     CSV_BUFFER_SIZE                           104857600\n",
            "2024-01-10 09:29:21,263 INFO     DEFAULT_EMBEDDINGS_SIZE                   128\n",
            "2024-01-10 09:29:21,263 INFO     DL_FRAMEWORK                              tensorflow\n",
            "2024-01-10 09:29:21,263 INFO     DROPOUT_KEEP_RATE                         0.75\n",
            "2024-01-10 09:29:21,263 INFO     EXPORT_CODE_VECTORS                       True\n",
            "2024-01-10 09:29:21,263 INFO     LOGS_PATH                                 None\n",
            "2024-01-10 09:29:21,263 INFO     MAX_CONTEXTS                              200\n",
            "2024-01-10 09:29:21,263 INFO     MAX_PATH_VOCAB_SIZE                       911417\n",
            "2024-01-10 09:29:21,263 INFO     MAX_TARGET_VOCAB_SIZE                     261245\n",
            "2024-01-10 09:29:21,263 INFO     MAX_TOKEN_VOCAB_SIZE                      1301136\n",
            "2024-01-10 09:29:21,263 INFO     MAX_TO_KEEP                               10\n",
            "2024-01-10 09:29:21,263 INFO     MODEL_LOAD_PATH                           /content/models/java14_model/saved_model_iter8.release\n",
            "2024-01-10 09:29:21,263 INFO     MODEL_SAVE_PATH                           None\n",
            "2024-01-10 09:29:21,264 INFO     NUM_BATCHES_TO_LOG_PROGRESS               100\n",
            "2024-01-10 09:29:21,264 INFO     NUM_TEST_EXAMPLES                         0\n",
            "2024-01-10 09:29:21,264 INFO     NUM_TRAIN_BATCHES_TO_EVALUATE             1800\n",
            "2024-01-10 09:29:21,264 INFO     NUM_TRAIN_EPOCHS                          20\n",
            "2024-01-10 09:29:21,264 INFO     NUM_TRAIN_EXAMPLES                        0\n",
            "2024-01-10 09:29:21,264 INFO     PATH_EMBEDDINGS_SIZE                      128\n",
            "2024-01-10 09:29:21,264 INFO     PREDICT                                   True\n",
            "2024-01-10 09:29:21,264 INFO     READER_NUM_PARALLEL_BATCHES               6\n",
            "2024-01-10 09:29:21,264 INFO     RELEASE                                   False\n",
            "2024-01-10 09:29:21,264 INFO     SAVE_EVERY_EPOCHS                         1\n",
            "2024-01-10 09:29:21,264 INFO     SAVE_T2V                                  None\n",
            "2024-01-10 09:29:21,264 INFO     SAVE_W2V                                  None\n",
            "2024-01-10 09:29:21,264 INFO     SEPARATE_OOV_AND_PAD                      False\n",
            "2024-01-10 09:29:21,264 INFO     SHUFFLE_BUFFER_SIZE                       10000\n",
            "2024-01-10 09:29:21,264 INFO     TARGET_EMBEDDINGS_SIZE                    384\n",
            "2024-01-10 09:29:21,264 INFO     TEST_BATCH_SIZE                           1024\n",
            "2024-01-10 09:29:21,264 INFO     TEST_DATA_PATH                            \n",
            "2024-01-10 09:29:21,264 INFO     TOKEN_EMBEDDINGS_SIZE                     128\n",
            "2024-01-10 09:29:21,264 INFO     TOP_K_WORDS_CONSIDERED_DURING_PREDICTION  10\n",
            "2024-01-10 09:29:21,264 INFO     TRAIN_BATCH_SIZE                          1024\n",
            "2024-01-10 09:29:21,264 INFO     TRAIN_DATA_PATH_PREFIX                    None\n",
            "2024-01-10 09:29:21,264 INFO     USE_TENSORBOARD                           False\n",
            "2024-01-10 09:29:21,264 INFO     VERBOSE_MODE                              1\n",
            "2024-01-10 09:29:21,265 INFO     _Config__logger                           <Logger code2vec (INFO)>\n",
            "2024-01-10 09:29:21,265 INFO     context_vector_size                       384\n",
            "2024-01-10 09:29:21,265 INFO     entire_model_load_path                    /content/models/java14_model/saved_model_iter8.release__entire-model\n",
            "2024-01-10 09:29:21,265 INFO     entire_model_save_path                    None\n",
            "2024-01-10 09:29:21,265 INFO     is_loading                                True\n",
            "2024-01-10 09:29:21,265 INFO     is_saving                                 False\n",
            "2024-01-10 09:29:21,265 INFO     is_testing                                False\n",
            "2024-01-10 09:29:21,265 INFO     is_training                               False\n",
            "2024-01-10 09:29:21,265 INFO     model_load_dir                            /content/models/java14_model\n",
            "2024-01-10 09:29:21,265 INFO     model_weights_load_path                   /content/models/java14_model/saved_model_iter8.release__only-weights\n",
            "2024-01-10 09:29:21,265 INFO     model_weights_save_path                   None\n",
            "2024-01-10 09:29:21,265 INFO     test_steps                                0\n",
            "2024-01-10 09:29:21,265 INFO     train_data_path                           None\n",
            "2024-01-10 09:29:21,265 INFO     train_steps_per_epoch                     0\n",
            "2024-01-10 09:29:21,265 INFO     word_freq_dict_path                       None\n",
            "2024-01-10 09:29:21,265 INFO     ---------------------------------------------------------------------\n",
            "2024-01-10 09:29:21,265 INFO     Loading model vocabularies from: `/content/models/java14_model/dictionaries.bin` ... \n",
            "2024-01-10 09:29:23,415 INFO     Done loading model vocabularies.\n",
            "2024-01-10 09:29:24,202 INFO     Done creating code2vec model\n",
            "2024-01-10 09:29:35.951009: I tensorflow/compiler/mlir/mlir_graph_optimization_pass.cc:388] MLIR V1 optimization pass is not enabled\n",
            "2024-01-10 09:30:01,474 INFO     Initalized variables\n",
            "2024-01-10 09:30:01,489 INFO     Loading model weights from: /content/models/java14_model/saved_model_iter8.release\n",
            "2024-01-10 09:30:07,429 INFO     Done loading model weights\n",
            "Starting interactive prediction...\n",
            "Modify the file: \"Input.java\" and press any key when ready, or \"q\" / \"quit\" / \"exit\" to exit\n"
          ]
        }
      ],
      "source": [
        "!python3 code2vec.py --load /content/models/java14_model/saved_model_iter8.release --predict --export_code_vectors"
      ]
    },
    {
      "cell_type": "code",
      "source": [
        "from google.colab import drive\n",
        "drive.mount('/content/drive')"
      ],
      "metadata": {
        "id": "AGCzK6fms575"
      },
      "execution_count": null,
      "outputs": []
    },
    {
      "cell_type": "markdown",
      "metadata": {
        "id": "PoMKY49_Jayu"
      },
      "source": [
        "6. We'll start creating code vectors of multiple code snippets."
      ]
    },
    {
      "cell_type": "code",
      "execution_count": null,
      "metadata": {
        "id": "ROlt3zOIM96L"
      },
      "outputs": [],
      "source": [
        "cv1 = ' ' .split(' ')\n",
        "cv2 = ' ' .split(' ')\n",
        "cv3 = ' ' .split(' ')\n",
        "cv4 = ' ' .split(' ')"
      ]
    },
    {
      "cell_type": "markdown",
      "metadata": {
        "id": "Qb8z7dpDcEBW"
      },
      "source": [
        "7. Next, we will calculate the cosine similarity of two code vectors."
      ]
    },
    {
      "cell_type": "code",
      "execution_count": null,
      "metadata": {
        "id": "8bZzaRSdMxB9"
      },
      "outputs": [],
      "source": [
        "# Code adapted from https://www.geeksforgeeks.org/how-to-calculate-cosine-similarity-in-python/\n",
        "# import required libraries\n",
        "import numpy as np\n",
        "from numpy.linalg import norm\n",
        "\n",
        "# convert the codevectors to numpy arrays\n",
        "A = np.array(cv1, dtype=float)\n",
        "B = np.array(cv1, dtype=float)\n",
        "\n",
        "# compute cosine similarity -- compare the same vector of the same code snippet\n",
        "cosine = np.dot(A,B)/(norm(A)*norm(B))\n",
        "print(\"Cosine Similarity (A-A):\", cosine)\n",
        "\n",
        "# convert the codevectors to numpy arrays\n",
        "A = np.array(cv1, dtype=float)\n",
        "B = np.array(cv2, dtype=float)\n",
        "\n",
        "# compute cosine similarity -- compare between two code snippets\n",
        "cosine = np.dot(A,B)/(norm(A)*norm(B))\n",
        "print(\"Cosine Similarity (A-B):\", cosine)\n",
        "\n",
        "# convert the codevectors to numpy arrays\n",
        "A = np.array(cv1, dtype=float)\n",
        "B = np.array(cv3, dtype=float)\n",
        "\n",
        "# compute cosine similarity -- compare between two code snippets\n",
        "cosine = np.dot(A,B)/(norm(A)*norm(B))\n",
        "print(\"Cosine Similarity (A-B):\", cosine)\n"
      ]
    },
    {
      "cell_type": "markdown",
      "metadata": {
        "id": "LSEWSzFqcHea"
      },
      "source": [
        "8. Write code to create a list of the 4 code vectors and compare all of them."
      ]
    },
    {
      "cell_type": "code",
      "execution_count": null,
      "metadata": {
        "id": "PyVpQplrYhxX"
      },
      "outputs": [],
      "source": [
        "# Fill in this part\n",
        "\n",
        "\n",
        "\n",
        "\n",
        "\n",
        "\n",
        "\n",
        "\n",
        "\n",
        "\n",
        "\n",
        "\n",
        "\n",
        "\n",
        "\n",
        "\n",
        "\n",
        "\n",
        "\n"
      ]
    }
  ],
  "metadata": {
    "colab": {
      "provenance": [],
      "include_colab_link": true
    },
    "kernelspec": {
      "display_name": "Python 3",
      "name": "python3"
    },
    "language_info": {
      "name": "python"
    }
  },
  "nbformat": 4,
  "nbformat_minor": 0
}